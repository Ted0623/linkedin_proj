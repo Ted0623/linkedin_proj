{
 "cells": [
  {
   "cell_type": "code",
   "execution_count": null,
   "metadata": {},
   "outputs": [],
   "source": [
    "import pandas as pd\n",
    "import warnings\n",
    "warnings.filterwarnings(\"ignore\") \n",
    "import re\n",
    "from bs4 import BeautifulSoup\n",
    "import time\n",
    "from selenium import webdriver\n",
    "from selenium.webdriver.common.keys import Keys\n",
    "from selenium.common.exceptions import NoSuchElementException"
   ]
  },
  {
   "cell_type": "code",
   "execution_count": null,
   "metadata": {},
   "outputs": [],
   "source": [
    "wd=webdriver.Chrome(\"chromedriver.exe\")\n",
    "wd.get('chrome://settings/')\n",
    "wd.execute_script('chrome.settingsPrivate.setDefaultZoom(0.4);')\n",
    "wd.get(\"https://www.google.ca/\")\n",
    "wd.get(\"https://www.linkedin.com\")"
   ]
  },
  {
   "cell_type": "code",
   "execution_count": null,
   "metadata": {},
   "outputs": [],
   "source": [
    "user=\"email\"\n",
    "userpass=\"password\""
   ]
  },
  {
   "cell_type": "code",
   "execution_count": null,
   "metadata": {},
   "outputs": [],
   "source": [
    "username=wd.find_element_by_id(\"session_key\")\n",
    "username.send_keys(user)\n",
    "password=wd.find_element_by_id(\"session_password\")\n",
    "password.send_keys(userpass)"
   ]
  },
  {
   "cell_type": "code",
   "execution_count": null,
   "metadata": {},
   "outputs": [],
   "source": [
    "login_button=wd.find_element_by_class_name(\"sign-in-form__submit-button\")\n",
    "login_button.click()"
   ]
  },
  {
   "cell_type": "code",
   "execution_count": null,
   "metadata": {},
   "outputs": [],
   "source": [
    "position='data analyst'\n",
    "loc='canada'\n",
    "position = position.replace(' ', \"%20\")\n",
    "wd.get(f\"https://www.linkedin.com/jobs/search/?currentJobId=3087504630&geoId=101174742&keywords={position}&location={loc}&refresh=true\")"
   ]
  },
  {
   "cell_type": "code",
   "execution_count": null,
   "metadata": {},
   "outputs": [],
   "source": [
    "no_of_jobs = wd.find_element_by_css_selector('small.display-flex.t-12.t-black--light.t-normal').text\n",
    "no_of_jobs=int(no_of_jobs.split(' ')[0].replace(',',''))\n",
    "print(no_of_jobs)\n",
    "time.sleep(2)"
   ]
  },
  {
   "cell_type": "code",
   "execution_count": null,
   "metadata": {},
   "outputs": [],
   "source": [
    "desc_list = []\n",
    "\n",
    "for i in range(1, 30):\n",
    "    # click button to change the job list\n",
    "    wd.find_element_by_xpath(f'//button[@aria-label=\"Page {i}\"]').click()\n",
    "    jobs_lists = wd.find_element_by_class_name(\"jobs-search-results-list\")  # here we create a list with jobs\n",
    "    jobs = jobs_lists.find_elements_by_class_name('jobs-search-results__list-item')  # here we select each job to count\n",
    "    time.sleep(1)\n",
    "    # the loop below is for the algorithm to click exactly on the number of jobs that is showing in list\n",
    "    for j in range(1, len(jobs)+1):\n",
    "        ## job click\n",
    "        wd.find_element_by_xpath(f\"/html/body/div[5]/div[3]/div[4]/div/div/main/div/section[1]/div/ul/li[{j}]/div/div[1]/div[1]/div[2]/div[1]/a\").click()\n",
    "        ## waiting load \n",
    "        time.sleep(1)\n",
    "        ## select job description\n",
    "        job_desc = wd.find_element_by_class_name('jobs-description-content__text.t-14.t-normal')\n",
    "        cards = wd.find_element_by_class_name('jobs-unified-top-card.t-14')\n",
    "        #get text\n",
    "        soup = BeautifulSoup(job_desc.get_attribute('outerHTML'), 'html.parser')\n",
    "        des=soup.text.strip()\n",
    "        title = cards.find_element_by_class_name('t-24.t-bold').text.strip()\n",
    "        try:\n",
    "            company = cards.find_element_by_class_name('ember-view.t-black.t-normal').text.strip()\n",
    "        except NoSuchElementException:\n",
    "            company=cards.find_element_by_class_name('jobs-unified-top-card__company-name')\n",
    "        location = cards.find_element_by_class_name('jobs-unified-top-card__bullet').text.strip()\n",
    "        try:\n",
    "            placetype = cards.find_element_by_class_name('jobs-unified-top-card__workplace-type').text.strip()\n",
    "        except NoSuchElementException:\n",
    "            placetype = ''\n",
    "        postdate = cards.find_element_by_class_name('jobs-unified-top-card__posted-date').text\n",
    "        ## add text to list\n",
    "        record=(title, company, location, placetype, postdate, des)\n",
    "        desc_list.append(record)"
   ]
  },
  {
   "cell_type": "code",
   "execution_count": null,
   "metadata": {},
   "outputs": [],
   "source": [
    "\"\"\" # Get scroll height\n",
    "SCROLL_PAUSE_TIME = 0.5\n",
    "last_height = wd.execute_script(\"return document.body.scrollHeight\")\n",
    "while True:\n",
    "# Scroll down to bottom\n",
    "    wd.execute_script(\"window.scrollTo(0, document.body.scrollHeight);\")\n",
    "\n",
    "    # Wait to load page\n",
    "    time.sleep(SCROLL_PAUSE_TIME)\n",
    "\n",
    "    # Calculate new scroll height and compare with last scroll height\n",
    "    new_height = wd.execute_script(\"return document.body.scrollHeight\")\n",
    "    if new_height == last_height:\n",
    "        break\n",
    "    last_height = new_height \"\"\""
   ]
  },
  {
   "cell_type": "code",
   "execution_count": null,
   "metadata": {},
   "outputs": [],
   "source": [
    "df = pd.DataFrame(desc_list)\n",
    "\n",
    "# deleting useless words\n",
    "df = df.replace(['\\n',\n",
    "                 '^.*?Expect',\n",
    "                 '^.*?Qualifications',\n",
    "                 '^.*?Required',\n",
    "                 '^.*?expected',\n",
    "                 '^.*?Responsibilities',\n",
    "                 '^.*?Requisitos',\n",
    "                 '^.*?Requirements',\n",
    "                 '^.*?Qualificações',\n",
    "                 '^.*?QualificationsRequired1',\n",
    "                 '^.*?você deve ter:',\n",
    "                 '^.*?experiência',\n",
    "                 '^.*?você:',\n",
    "                 '^.*?Desejável',\n",
    "                 '^.*?great',\n",
    "                 '^.*?Looking For',\n",
    "                 '^.*?ll Need',\n",
    "                 '^.*?Conhecimento',\n",
    "                 '^.*?se:',\n",
    "                 '^.*?habilidades',\n",
    "                 '^.*?se:',\n",
    "                 '^.*?REQUISITOS'\n",
    "                 ], '', regex=True)\n",
    "df.rename(columns={0:'job_title', 1:'company_name', 2:'location', 3:'workplace_type', 4:'job_posted', 5:'job_desc'}, inplace=True)\n",
    "df.to_csv('linkedin_jobs.csv')\n"
   ]
  }
 ],
 "metadata": {
  "interpreter": {
   "hash": "0e8901ad9e28f1de3770652873e5de76a25bd2fe8436a3bfc64bcd9233978153"
  },
  "kernelspec": {
   "display_name": "Python 3.9.12 ('base')",
   "language": "python",
   "name": "python3"
  },
  "language_info": {
   "codemirror_mode": {
    "name": "ipython",
    "version": 3
   },
   "file_extension": ".py",
   "mimetype": "text/x-python",
   "name": "python",
   "nbconvert_exporter": "python",
   "pygments_lexer": "ipython3",
   "version": "3.9.12"
  },
  "orig_nbformat": 4
 },
 "nbformat": 4,
 "nbformat_minor": 2
}
